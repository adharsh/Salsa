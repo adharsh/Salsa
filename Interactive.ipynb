{
 "cells": [
  {
   "cell_type": "code",
   "execution_count": 12,
   "id": "db96cda8-3a39-44f3-a622-40e2882f79db",
   "metadata": {},
   "outputs": [
    {
     "name": "stdout",
     "output_type": "stream",
     "text": [
      "Total nodes visited: 14\n",
      "Guapea\n",
      "Familia\n",
      "Guapea\n",
      "Setenta\n",
      "Dile Que No Position\n",
      "Peina\n",
      "Guapea\n",
      "Right-to-Right\n",
      "Sombrero\n",
      "Mambo\n",
      "Guapea\n",
      "Enchufla\n",
      "Enchufla\n",
      "Enchufla\n"
     ]
    }
   ],
   "source": [
    "!pip install -q types-networkx networkx\n",
    "\n",
    "import sys\n",
    "import os\n",
    "\n",
    "sys.path.append(os.path.dirname(os.getcwd()))\n",
    "\n",
    "# Import the script\n",
    "import choreography\n",
    "\n",
    "# Set up the arguments\n",
    "args = choreography.argparse.Namespace(\n",
    "    steps=10,\n",
    "    dot_file=\"social.dot\",\n",
    "    skip_guapea=True\n",
    ")\n",
    "\n",
    "# Load the graph\n",
    "graph = choreography.load_graph(args.dot_file)\n",
    "\n",
    "# Traverse the graph\n",
    "traversed = choreography.traverse_graph(graph, args.steps, args.skip_guapea)\n",
    "\n",
    "# Print the results\n",
    "print(f\"Total nodes visited: {len(traversed)}\")\n",
    "print(\"\\n\".join(traversed))"
   ]
  },
  {
   "cell_type": "code",
   "execution_count": null,
   "id": "af61840e-18ad-4331-8778-2583692d8482",
   "metadata": {},
   "outputs": [],
   "source": []
  }
 ],
 "metadata": {
  "kernelspec": {
   "display_name": "Python 3 (ipykernel)",
   "language": "python",
   "name": "python3"
  },
  "language_info": {
   "codemirror_mode": {
    "name": "ipython",
    "version": 3
   },
   "file_extension": ".py",
   "mimetype": "text/x-python",
   "name": "python",
   "nbconvert_exporter": "python",
   "pygments_lexer": "ipython3",
   "version": "3.12.5"
  }
 },
 "nbformat": 4,
 "nbformat_minor": 5
}
