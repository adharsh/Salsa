{
 "cells": [
  {
   "cell_type": "markdown",
   "id": "24381af4",
   "metadata": {},
   "source": [
    "# Defaults"
   ]
  },
  {
   "cell_type": "code",
   "execution_count": 3,
   "id": "db96cda8-3a39-44f3-a622-40e2882f79db",
   "metadata": {},
   "outputs": [
    {
     "name": "stdout",
     "output_type": "stream",
     "text": [
      "Total nodes visited: 14\n",
      "Guapea\n",
      "Pa Ti Pa Mi\n",
      "Guapea\n",
      "Doble Cero\n",
      "Dile Que No Position\n",
      "Pasea\n",
      "Guapea\n",
      "Familia\n",
      "Guapea\n",
      "Sencillo\n",
      "Dile Que No Position\n",
      "Exhibe\n",
      "Rodeo\n",
      "Dile Que No Position\n"
     ]
    }
   ],
   "source": [
    "import sys\n",
    "import os\n",
    "\n",
    "sys.path.append(os.path.dirname(os.getcwd()))\n",
    "\n",
    "# Import the script\n",
    "import choreography\n",
    "\n",
    "# Set up the arguments\n",
    "args = choreography.argparse.Namespace(\n",
    "    steps=10,\n",
    "    dot_file=\"social.dot\",\n",
    "    skip_guapea=True\n",
    ")\n",
    "\n",
    "# Load the graph\n",
    "graph = choreography.load_graph(args.dot_file)\n",
    "\n",
    "# Traverse the graph\n",
    "traversed = choreography.traverse_graph(graph, args.steps, args.skip_guapea)\n",
    "\n",
    "# Print the results\n",
    "print(f\"Total nodes visited: {len(traversed)}\")\n",
    "print(\"\\n\".join(traversed))"
   ]
  },
  {
   "cell_type": "markdown",
   "id": "e8512d4d",
   "metadata": {},
   "source": [
    "# Hard Mode"
   ]
  },
  {
   "cell_type": "code",
   "execution_count": 4,
   "id": "af61840e-18ad-4331-8778-2583692d8482",
   "metadata": {},
   "outputs": [
    {
     "name": "stdout",
     "output_type": "stream",
     "text": [
      "Total nodes visited: 14\n",
      "Guapea\n",
      "Setenta Y Tres\n",
      "Dile Que No Position\n",
      "Enrosca\n",
      "Guapea\n",
      "La Cruz\n",
      "Guapea\n",
      "La Cruz\n",
      "Guapea\n",
      "Vacilense Los Dos\n",
      "Dile Que No Position\n",
      "Exhibe (Right-to-Right)\n",
      "Dile Que No Position\n",
      "Coca Cola\n"
     ]
    }
   ],
   "source": [
    "import sys\n",
    "import os\n",
    "\n",
    "sys.path.append(os.path.dirname(os.getcwd()))\n",
    "\n",
    "# Import the script\n",
    "import choreography\n",
    "\n",
    "# Set up the arguments\n",
    "args = choreography.argparse.Namespace(\n",
    "    steps=10,\n",
    "    dot_file=\"social_all_dile_que_no_is_same.dot\",\n",
    "    skip_guapea=True\n",
    ")\n",
    "\n",
    "# Load the graph\n",
    "graph = choreography.load_graph(args.dot_file)\n",
    "\n",
    "# Traverse the graph\n",
    "traversed = choreography.traverse_graph(graph, args.steps, args.skip_guapea)\n",
    "\n",
    "# Print the results\n",
    "print(f\"Total nodes visited: {len(traversed)}\")\n",
    "print(\"\\n\".join(traversed))"
   ]
  }
 ],
 "metadata": {
  "kernelspec": {
   "display_name": "Python 3 (ipykernel)",
   "language": "python",
   "name": "python3"
  },
  "language_info": {
   "codemirror_mode": {
    "name": "ipython",
    "version": 3
   },
   "file_extension": ".py",
   "mimetype": "text/x-python",
   "name": "python",
   "nbconvert_exporter": "python",
   "pygments_lexer": "ipython3",
   "version": "3.12.5"
  }
 },
 "nbformat": 4,
 "nbformat_minor": 5
}
